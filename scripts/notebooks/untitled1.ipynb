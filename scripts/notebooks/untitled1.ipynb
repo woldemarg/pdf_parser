{
 "cells": [
  {
   "cell_type": "code",
   "execution_count": 1,
   "metadata": {},
   "outputs": [],
   "source": [
    "import os\n",
    "from pathlib import Path\n",
    "import numpy as np\n",
    "import matplotlib.pyplot as plt\n",
    "import cv2\n",
    "from scripts.pdf_parser_class import PDFparser"
   ]
  },
  {
   "cell_type": "markdown",
   "metadata": {},
   "source": [
    "## Парсинг pdf\n",
    "1. Обзор некоторых доступных модулей для парсинга pdf - см. [ноутбук](scripts/notebooks/compare_modules.ipynb)\n",
    "2. PDFparser - кастомный модуль, который парсит pdf в текст с помощью *pdftotext* или *camelot*, а затем распознает ряды и заголовок твблицы на основе [некоторых эвристик](../../README.md#evr)"
   ]
  },
  {
   "cell_type": "code",
   "execution_count": 2,
   "metadata": {},
   "outputs": [],
   "source": [
    "NEW_PDF = \"../../task_description/examples/sysco PO#_077-2706434.pdf\""
   ]
  },
  {
   "cell_type": "code",
   "execution_count": 3,
   "metadata": {},
   "outputs": [],
   "source": [
    "pdftotext_parser = PDFparser()\n",
    "ptt_df = pdftotext_parser.get_rows(NEW_PDF)\n",
    "\n",
    "camelot_parser = PDFparser(parse_method=\"camelot\")\n",
    "cam_df = pdftotext_parser.get_rows(NEW_PDF)"
   ]
  },
  {
   "cell_type": "code",
   "execution_count": 4,
   "metadata": {},
   "outputs": [
    {
     "data": {
      "text/plain": [
       "True"
      ]
     },
     "execution_count": 4,
     "metadata": {},
     "output_type": "execute_result"
    }
   ],
   "source": [
    "ptt_df.equals(cam_df)"
   ]
  },
  {
   "cell_type": "markdown",
   "metadata": {},
   "source": [
    "## Распознание таблиц в pdf"
   ]
  },
  {
   "cell_type": "code",
   "execution_count": 5,
   "metadata": {},
   "outputs": [],
   "source": [
    "# вспомогательная функция для\n",
    "# визуального контроля за результатами\n",
    "# заспознания таблиц\n",
    "mrgn = 50\n",
    "font_scale = .35\n",
    "thickness = 1\n",
    "font = cv2.FONT_HERSHEY_SIMPLEX\n",
    "line_type = cv2.LINE_AA\n",
    "\n",
    "def make_pdf_image(file_path,\n",
    "                   parse_method):\n",
    "\n",
    "    parser = PDFparser(parse_method=parse_method)\n",
    "    df_marked = parser.get_rows_marked(file_path)\n",
    "\n",
    "    longest_str = df_marked.loc[df_marked[0].str.len().idxmax()][0]\n",
    "\n",
    "    (w, h), baseline = cv2.getTextSize(longest_str,\n",
    "                                       font,\n",
    "                                       font_scale,\n",
    "                                       thickness)\n",
    "\n",
    "    line_height = h + baseline\n",
    "\n",
    "    image = np.zeros((len(df_marked) * line_height + mrgn * 2,\n",
    "                      w + mrgn * 2,\n",
    "                      3), dtype=\"uint8\")\n",
    "\n",
    "    x, y0 = (mrgn, mrgn)\n",
    "    for r in range(len(df_marked)):\n",
    "        line = df_marked.loc[r, 0]\n",
    "        y = y0 + r * line_height\n",
    "        if df_marked.loc[r, \"mark\"] == \"tbl_row\":\n",
    "            cv2.putText(image,\n",
    "                        line,\n",
    "                        (x, y),\n",
    "                        font,\n",
    "                        font_scale,\n",
    "                        (255, 0, 0),\n",
    "                        thickness,\n",
    "                        line_type)\n",
    "        elif df_marked.loc[r, \"mark\"] == \"tbl_hdr\":\n",
    "            cv2.putText(image,\n",
    "                        line,\n",
    "                        (x, y),\n",
    "                        font,\n",
    "                        font_scale,\n",
    "                        (255, 255, 0),\n",
    "                        thickness,\n",
    "                        line_type)\n",
    "        else:\n",
    "            cv2.putText(image,\n",
    "                        line,\n",
    "                        (x, y),\n",
    "                        font,\n",
    "                        font_scale,\n",
    "                        (255, 255, 255),\n",
    "                        thickness,\n",
    "                        line_type)\n",
    "    return image"
   ]
  },
  {
   "cell_type": "code",
   "execution_count": 6,
   "metadata": {},
   "outputs": [],
   "source": [
    "# образцы файлов\n",
    "pdf_pths = [str(pth) for pth\n",
    "            in Path(\"../../task_description/examples/\").iterdir()\n",
    "            if pth.suffix == \".pdf\"]"
   ]
  },
  {
   "cell_type": "markdown",
   "metadata": {},
   "source": [
    "### Сравнение итогов работы PDFparser\n",
    "на всех образцах после парсинга каждым из доступных методов"
   ]
  },
  {
   "cell_type": "code",
   "execution_count": null,
   "metadata": {},
   "outputs": [],
   "source": [
    "parse_mtds = [\"pdftotext\", \"camelot\"]\n",
    "\n",
    "params = {\"axes.titlesize\": \"X-large\"}\n",
    "plt.rcParams.update(params)\n",
    "\n",
    "fig, ax = plt.subplots(len(pdf_pths), len(parse_mtds),\n",
    "                       figsize=(30, 70))\n",
    "\n",
    "for i, file in enumerate(pdf_pths):\n",
    "    for j, mtd in enumerate(parse_mtds):\n",
    "        ax[i, j].axis(\"off\")\n",
    "        ax[i, j].title.set_text(os.path.basename(pdf_pths[i]) +\n",
    "                                \" (\" + parse_mtds[j] + \")\"  )\n",
    "        ax[i, j].imshow(make_pdf_image(pdf_pths[i], parse_mtds[j]))\n",
    "        fig.tight_layout()\n",
    "\n"
   ]
  },
  {
   "cell_type": "code",
   "execution_count": null,
   "metadata": {},
   "outputs": [],
   "source": []
  }
 ],
 "metadata": {
  "anaconda-cloud": {},
  "kernelspec": {
   "display_name": "Python 3 (Spyder)",
   "language": "python3",
   "name": "python3"
  },
  "language_info": {
   "codemirror_mode": {
    "name": "ipython",
    "version": 3
   },
   "file_extension": ".py",
   "mimetype": "text/x-python",
   "name": "python",
   "nbconvert_exporter": "python",
   "pygments_lexer": "ipython3",
   "version": "3.8.5"
  }
 },
 "nbformat": 4,
 "nbformat_minor": 4
}
