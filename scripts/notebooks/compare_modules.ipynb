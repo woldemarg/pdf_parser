{
 "cells": [
  {
   "cell_type": "code",
   "execution_count": 1,
   "metadata": {},
   "outputs": [],
   "source": [
    "from py4j.java_gateway import JavaGateway\n",
    "\n",
    "import tabula\n",
    "import camelot\n",
    "import pdftotext\n",
    "import pandas as pd\n",
    "import numpy as np"
   ]
  },
  {
   "cell_type": "code",
   "execution_count": 2,
   "metadata": {},
   "outputs": [],
   "source": [
    "PDF_1 = \"../../task_description/examples/GFS 5760519.pdf\"\n",
    "PDF_2 = \"../../task_description/examples/sysco PO#_077-2706434.pdf\""
   ]
  },
  {
   "cell_type": "markdown",
   "metadata": {},
   "source": [
    "PDF_1:\n",
    "![GFS_5760519_p1](gfs_5760519_page_1.png)\n",
    "![GFS_5760519_p2](gfs_5760519_page_2.png)"
   ]
  },
  {
   "cell_type": "markdown",
   "metadata": {},
   "source": [
    "PDF_2:\n",
    "![PO_077-2706434_p1](sysco_po#_077-2706434_page_1.png)\n",
    "![PO_077-2706434_p2](sysco_po#_077-2706434_page_2.png)"
   ]
  },
  {
   "cell_type": "markdown",
   "metadata": {},
   "source": [
    "## tabula-py 1.4.1"
   ]
  },
  {
   "cell_type": "code",
   "execution_count": 3,
   "metadata": {},
   "outputs": [
    {
     "data": {
      "text/html": [
       "<div>\n",
       "<style scoped>\n",
       "    .dataframe tbody tr th:only-of-type {\n",
       "        vertical-align: middle;\n",
       "    }\n",
       "\n",
       "    .dataframe tbody tr th {\n",
       "        vertical-align: top;\n",
       "    }\n",
       "\n",
       "    .dataframe thead th {\n",
       "        text-align: right;\n",
       "    }\n",
       "</style>\n",
       "<table border=\"1\" class=\"dataframe\">\n",
       "  <thead>\n",
       "    <tr style=\"text-align: right;\">\n",
       "      <th></th>\n",
       "      <th>1</th>\n",
       "      <th>1 500G</th>\n",
       "      <th>00066958017026 SPICE SESAME SEED BLK</th>\n",
       "      <th>|1257749  96/04</th>\n",
       "      <th>Unnamed: 4</th>\n",
       "      <th>192</th>\n",
       "      <th>7.0000</th>\n",
       "      <th>.1108</th>\n",
       "    </tr>\n",
       "  </thead>\n",
       "  <tbody>\n",
       "    <tr>\n",
       "      <th>0</th>\n",
       "      <td>NaN</td>\n",
       "      <td>NaN</td>\n",
       "      <td>NaN</td>\n",
       "      <td>| 182050</td>\n",
       "      <td>NaN</td>\n",
       "      <td>NaN</td>\n",
       "      <td>NaN</td>\n",
       "      <td>NaN</td>\n",
       "    </tr>\n",
       "    <tr>\n",
       "      <th>1</th>\n",
       "      <td>2.0</td>\n",
       "      <td>12 212ML</td>\n",
       "      <td>01899500212117 PEPPERCORN GRN IN BRINE</td>\n",
       "      <td>|1281180  27/07</td>\n",
       "      <td>NaN</td>\n",
       "      <td>27.0</td>\n",
       "      <td>45.00</td>\n",
       "      <td>0.5867</td>\n",
       "    </tr>\n",
       "    <tr>\n",
       "      <th>2</th>\n",
       "      <td>NaN</td>\n",
       "      <td>NaN</td>\n",
       "      <td>NaN</td>\n",
       "      <td>| 103000</td>\n",
       "      <td>NaN</td>\n",
       "      <td>NaN</td>\n",
       "      <td>NaN</td>\n",
       "      <td>NaN</td>\n",
       "    </tr>\n",
       "    <tr>\n",
       "      <th>3</th>\n",
       "      <td>3.0</td>\n",
       "      <td>6 2L</td>\n",
       "      <td>00066958145422 PICKLE CORNICHON EXTRA FINE</td>\n",
       "      <td>|1307496  12/03</td>\n",
       "      <td>NaN</td>\n",
       "      <td>36.0</td>\n",
       "      <td>59.64</td>\n",
       "      <td>3.1264</td>\n",
       "    </tr>\n",
       "    <tr>\n",
       "      <th>4</th>\n",
       "      <td>NaN</td>\n",
       "      <td>NaN</td>\n",
       "      <td>101308</td>\n",
       "      <td>| 101308</td>\n",
       "      <td>NaN</td>\n",
       "      <td>NaN</td>\n",
       "      <td>NaN</td>\n",
       "      <td>NaN</td>\n",
       "    </tr>\n",
       "  </tbody>\n",
       "</table>\n",
       "</div>"
      ],
      "text/plain": [
       "     1    1 500G  ... 7.0000   .1108\n",
       "0  NaN       NaN  ...    NaN     NaN\n",
       "1  2.0  12 212ML  ...  45.00  0.5867\n",
       "2  NaN       NaN  ...    NaN     NaN\n",
       "3  3.0      6 2L  ...  59.64  3.1264\n",
       "4  NaN       NaN  ...    NaN     NaN\n",
       "\n",
       "[5 rows x 8 columns]"
      ]
     },
     "execution_count": 3,
     "metadata": {},
     "output_type": "execute_result"
    }
   ],
   "source": [
    "# tabula-py 1.4.1\n",
    "df_1 = tabula.read_pdf(PDF_1, stream=True, pages=\"all\")\n",
    "df_1.head()"
   ]
  },
  {
   "cell_type": "code",
   "execution_count": 4,
   "metadata": {},
   "outputs": [
    {
     "data": {
      "text/html": [
       "<div>\n",
       "<style scoped>\n",
       "    .dataframe tbody tr th:only-of-type {\n",
       "        vertical-align: middle;\n",
       "    }\n",
       "\n",
       "    .dataframe tbody tr th {\n",
       "        vertical-align: top;\n",
       "    }\n",
       "\n",
       "    .dataframe thead th {\n",
       "        text-align: right;\n",
       "    }\n",
       "</style>\n",
       "<table border=\"1\" class=\"dataframe\">\n",
       "  <thead>\n",
       "    <tr style=\"text-align: right;\">\n",
       "      <th></th>\n",
       "      <th>1  1</th>\n",
       "      <th>454 GM  QUALFST</th>\n",
       "      <th>181725</th>\n",
       "      <th>0116871</th>\n",
       "      <th>SPICE CARDAMOM GRND</th>\n",
       "      <th>1</th>\n",
       "      <th>23.4700</th>\n",
       "      <th>.0000</th>\n",
       "    </tr>\n",
       "  </thead>\n",
       "  <tbody>\n",
       "    <tr>\n",
       "      <th>0</th>\n",
       "      <td>2  1</td>\n",
       "      <td>3.2 KG  FABBRI</td>\n",
       "      <td>150359</td>\n",
       "      <td>1438769</td>\n",
       "      <td>CHERRY ITALIAN AMARENA</td>\n",
       "      <td>2</td>\n",
       "      <td>94.05</td>\n",
       "      <td>0.0</td>\n",
       "    </tr>\n",
       "    <tr>\n",
       "      <th>1</th>\n",
       "      <td>3  1</td>\n",
       "      <td>340 GR  ROYALCM</td>\n",
       "      <td>181845</td>\n",
       "      <td>3667809</td>\n",
       "      <td>SPICE DILL SEEDS WHL</td>\n",
       "      <td>1</td>\n",
       "      <td>6.00</td>\n",
       "      <td>0.0</td>\n",
       "    </tr>\n",
       "    <tr>\n",
       "      <th>2</th>\n",
       "      <td>4  1</td>\n",
       "      <td>454 GR  THAIN</td>\n",
       "      <td>257021</td>\n",
       "      <td>5024967</td>\n",
       "      <td>SUGAR PALM</td>\n",
       "      <td>8</td>\n",
       "      <td>4.65</td>\n",
       "      <td>0.0</td>\n",
       "    </tr>\n",
       "    <tr>\n",
       "      <th>3</th>\n",
       "      <td>5  12</td>\n",
       "      <td>725 ML  GLDNBOY</td>\n",
       "      <td>093025</td>\n",
       "      <td>5079203</td>\n",
       "      <td>SAUCE FISH THAILAND</td>\n",
       "      <td>1</td>\n",
       "      <td>79.80</td>\n",
       "      <td>0.0</td>\n",
       "    </tr>\n",
       "    <tr>\n",
       "      <th>4</th>\n",
       "      <td>6  1</td>\n",
       "      <td>5 KGROYALCM</td>\n",
       "      <td>181886</td>\n",
       "      <td>5367999</td>\n",
       "      <td>SALT SEA PNK HIMALAYAN FI</td>\n",
       "      <td>2</td>\n",
       "      <td>38.89</td>\n",
       "      <td>0.0</td>\n",
       "    </tr>\n",
       "  </tbody>\n",
       "</table>\n",
       "</div>"
      ],
      "text/plain": [
       "    1  1  454 GM  QUALFST  181725  ...  1 23.4700  .0000\n",
       "0   2  1   3.2 KG  FABBRI  150359  ...  2   94.05    0.0\n",
       "1   3  1  340 GR  ROYALCM  181845  ...  1    6.00    0.0\n",
       "2   4  1    454 GR  THAIN  257021  ...  8    4.65    0.0\n",
       "3  5  12  725 ML  GLDNBOY  093025  ...  1   79.80    0.0\n",
       "4   6  1      5 KGROYALCM  181886  ...  2   38.89    0.0\n",
       "\n",
       "[5 rows x 8 columns]"
      ]
     },
     "execution_count": 4,
     "metadata": {},
     "output_type": "execute_result"
    }
   ],
   "source": [
    "df_2 = tabula.read_pdf(PDF_2, stream=True, pages=\"all\")\n",
    "df_2.head()"
   ]
  },
  {
   "cell_type": "markdown",
   "metadata": {},
   "source": [
    "## camelot-py 0.8.2"
   ]
  },
  {
   "cell_type": "code",
   "execution_count": 5,
   "metadata": {},
   "outputs": [
    {
     "name": "stdout",
     "output_type": "stream",
     "text": [
      "                                                    0\n",
      "0   PO01A5    TO EMAIL :             VENDOR # :   ...\n",
      "1                               ORDERS@QUALIFIRST.COM\n",
      "2   5:12:46                           GORDON FOOD ...\n",
      "3    PO01A5                           MILTON DIVISION\n",
      "4   2999 JAMES SNOW PARKWAY                       ...\n",
      "5   MILTON, ON L9T 5G4                            ...\n",
      "6   PHONE-  905-864-3700       ------ WAREHOUSE --...\n",
      "7   VENDOR #:    683600                           ...\n",
      "8   NAME    :  QUALIFIRST FOODS LTD               ...\n",
      "9   89 CARLINGVIEW DR.                   **      P...\n",
      "10  *****************************   ETOBICOKE     ...\n",
      "11  ETOBICOKE       ON M9W 5E4                    ...\n",
      "12  PHONE   :   416-244-1177                      ...\n",
      "13  FAX     :   416-244-1737                      ...\n",
      "14  LEAD-  4 DAYS  FRT-        /CS      /CW       ...\n",
      "15  BROKER -                               PHONE- ...\n",
      "16  SPECIAL P.O. INSTRUCTIONS-                    ...\n",
      "17                                SEND TO CAPSTONE- Y\n",
      "18  **********************************************...\n",
      "19  ____ ____ ____    ________ ____            ___...\n",
      "20                                                  |\n",
      "21  1    1 500G    00066958017026 SPICE SESAME SEE...\n",
      "22                                           | 182050\n",
      "23  2   12 212ML   01899500212117 PEPPERCORN GRN I...\n",
      "24                                           | 103000\n"
     ]
    }
   ],
   "source": [
    "# camelot-py 0.8.2\n",
    "tables_1 = camelot.read_pdf(PDF_1,\n",
    "                            flavor=\"stream\",\n",
    "                            split_text=True,\n",
    "                            suppress_stdout=True,\n",
    "                            pages=\"all\")\n",
    "print(tables_1[0].df.head(25))"
   ]
  },
  {
   "cell_type": "code",
   "execution_count": 6,
   "metadata": {},
   "outputs": [
    {
     "name": "stdout",
     "output_type": "stream",
     "text": [
      "                                                    0\n",
      "0                                ** PURCHASE ORDER **\n",
      "1                                  SYSCO PETERBOROUGH\n",
      "2   ----------------------------------------------...\n",
      "3                                  SYSCO PETERBOROUGH\n",
      "4                               SYSCO CENTRAL ONTARIO\n",
      "5                                     65 ELMDALE ROAD\n",
      "6                           CAVAN MONAGHAN ON K9J 0G5\n",
      "7   Phone: 705-748-6701                 Fax: 705-8...\n",
      "8   ----------------------------------------------...\n",
      "9   PO Number:   077-2706434                      ...\n",
      "10  PO Date: 8/06/20                              ...\n",
      "11                             Delivery Date: 8/11/20\n",
      "12                              Pick Up Date: 8/10/20\n",
      "13             Vendor: QUALIFIRST FOODS LTD(14513002)\n",
      "14                                  89 CARLINGVIEW DR\n",
      "15                                       ETOBICOKE,ON\n",
      "16  Phone:  416-244-1177                FAX:   000...\n",
      "17                               Special Instruction:\n",
      "18  ----------------------------------------------...\n",
      "19  Vendor          Item       Item               ...\n",
      "20  Line Pack Size     Brand          Item#       ...\n",
      "21  ----------------------------------------------...\n",
      "22  1  1    454 GM  QUALFST         181725        ...\n",
      "23  2  1    3.2 KG  FABBRI          150359        ...\n",
      "24  3  1    340 GR  ROYALCM         181845        ...\n"
     ]
    }
   ],
   "source": [
    "tables_2 = camelot.read_pdf(PDF_2,\n",
    "                            flavor=\"stream\",\n",
    "                            split_text=True,\n",
    "                            suppress_stdout=True,\n",
    "                            pages=\"all\")\n",
    "print(tables_2[0].df.head(25))"
   ]
  },
  {
   "cell_type": "markdown",
   "metadata": {},
   "source": [
    "## PDFLayoutTextStripper 2.2.3"
   ]
  },
  {
   "cell_type": "code",
   "execution_count": 7,
   "metadata": {},
   "outputs": [],
   "source": [
    "# PDFLayoutTextStripper 2.2.3\n",
    "# preserves layout\n",
    "# https://stackoverflow.com/questions/51334387/unable-to-launch-gateway-from-python-in-py4j\n",
    "# https://stackoverflow.com/questions/42826221/py4j-how-to-launch-the-java-gateway-from-python\n",
    "# https://www.py4j.org/py4j_java_gateway.html#examples\n",
    "\n",
    "gg = (JavaGateway\n",
    "      .launch_gateway(\n",
    "          classpath=\"../../pdf_layout_text_stripper/python-gateway.jar\",\n",
    "          die_on_exit=True))\n",
    "\n",
    "pdf_stripper = gg.jvm.io.github.jonathanlink.PythonGateway()"
   ]
  },
  {
   "cell_type": "code",
   "execution_count": 8,
   "metadata": {},
   "outputs": [
    {
     "name": "stdout",
     "output_type": "stream",
     "text": [
      "                                                                                                                                                         \n",
      " PO01A5         TO  EMAIL    :                    VENDOR    #  :      683600     P.O.   #     :5760519     NAME         :QUALIFIRST       FOODS    LTD   \n",
      "                ORDERS@QUALIFIRST.COM                                                                                                                    \n",
      "                                                                                                                                                         \n",
      "      5:12:46                                           GORDON    FOOD   SERVICE     CDN                                                                 \n",
      "       PO01A5                                           MILTON    DIVISION                                                                               \n",
      "                                                        2999   JAMES    SNOW   PARKWAY                                                                   \n",
      "                                                        MILTON,    ON   L9T   5G4                                                                        \n",
      "                                                                              PHONE-      905-864-3700               ------     WAREHOUSE      -------   \n",
      " VENDOR     #:      683600                                                                                           QUALIFIRST       FOODS    LTD       \n",
      " NAME        :   QUALIFIRST       FOODS   LTD                           *****************************                89   CARLINGVIEW       DR           \n",
      "                 89   CARLINGVIEW       DR.                             **          PURCHASE     ORDER          **                                       \n",
      "                                                                        *****************************                  ETOBICOKE                         \n",
      "                 ETOBICOKE               ON  M9W   5E4                                                                  ON    M9W   5E4                  \n",
      " PHONE       :     416-244-1177                                                                               GFS   IS  IMPORTER:      NO                \n",
      " FAX         :     416-244-1737                                                                              CFIA   LICENSE     NUM:                     \n",
      "                                   LEAD-     4  DAYS     FRT-              /CS          /CW             /LB             /BK           /CB                \n",
      " BROKER     -                                              PHONE-                           FAX   -  416-244-1737                                        \n",
      " SPECIAL     P.O.   INSTRUCTIONS-                                                   *  PICK   UP  *                                                      \n",
      "                                                                                                                                                         \n",
      " *******************************************************************************************************                                                 \n",
      "                                                                                                                                                         \n",
      " L_I _N _E _  P _A _C _K_ S_I _Z_E __  _   _    G _T _I _N _/ _V_N _D__  C_O_D _E__  _  _  _  _  _  _  _  _  _  _   I _T _E_M __  D_E_S _C _R _I_P _T _I_\n",
      "                                                                                                              |                                          \n",
      "      1      1  500G        00066958017026        SPICE    SESAME    SEED   BLK                               |      1257749       96/04         192     \n",
      "                                                                                                              |  182050                                  \n",
      "      2     12  212ML       01899500212117        PEPPERCORN      GRN   IN  BRINE                             |      1281180       27/07           27    \n",
      "                                                                                                              |  103000                                  \n",
      "      3      6  2L          00066958145422        PICKLE    CORNICHON      EXTRA    FINE                      |      1307496       12/03           36    \n",
      "                            101308                                                                            |  101308                                  \n"
     ]
    }
   ],
   "source": [
    "res_1 = pdf_stripper.strip(PDF_1)\n",
    "str_1 = res_1[\"payload\"].splitlines()\n",
    "for i in range(30):\n",
    "    print(str_1[i])"
   ]
  },
  {
   "cell_type": "code",
   "execution_count": 9,
   "metadata": {},
   "outputs": [
    {
     "name": "stdout",
     "output_type": "stream",
     "text": [
      "{'success': 'false', 'error': 'String index out of range: -1'}\n"
     ]
    }
   ],
   "source": [
    "res_2 = pdf_stripper.strip(PDF_2)\n",
    "print(res_2)"
   ]
  },
  {
   "cell_type": "code",
   "execution_count": 10,
   "metadata": {},
   "outputs": [],
   "source": [
    "gg.close()"
   ]
  },
  {
   "cell_type": "markdown",
   "metadata": {},
   "source": [
    "## pdftotext 2.1.5"
   ]
  },
  {
   "cell_type": "code",
   "execution_count": 11,
   "metadata": {},
   "outputs": [
    {
     "name": "stdout",
     "output_type": "stream",
     "text": [
      "PO01A5      TO EMAIL :              VENDOR # :   683600 P.O. #   :5760519 NAME       :QUALIFIRST FOODS LTD\n",
      "            ORDERS@QUALIFIRST.COM\n",
      "\n",
      "   5:12:46                             GORDON FOOD SERVICE CDN                                                         DMOWERS\n",
      "    PO01A5                             MILTON DIVISION\n",
      "                                       2999 JAMES SNOW PARKWAY                                                PAGE-              1\n",
      "                                       MILTON, ON L9T 5G4                                                     P.O. DATE- 8/10/2020\n",
      "                                                       PHONE- 905-864-3700        ------ WAREHOUSE -------    P.O. NUMBER-5760519\n",
      "VENDOR #:      683600                                                             QUALIFIRST FOODS LTD        BUYER - JORDAN GARCIA EXT\n",
      "NAME    :    QUALIFIRST FOODS LTD                 *****************************   89 CARLINGVIEW DR           PHONE 905-693-3607\n",
      "             89 CARLINGVIEW DR.                   **      PURCHASE ORDER     **\n",
      "                                                  *****************************     ETOBICOKE             JORDAN.GARCIA@GFS.COM\n",
      "           ETOBICOKE       ON M9W 5E4                                                ON M9W 5E4           COST - DAVID MOWERS\n",
      "PHONE    :  416-244-1177                                                      GFS IS IMPORTER: NO         PHONE 616-717-4099\n",
      "FAX      :  416-244-1737                                                     CFIA LICENSE NUM:            FAX   616-717-9730\n",
      "                       LEAD- 4 DAYS FRT-          /CS        /CW         /LB         /BK       /CB        DAVID.MOWERS@GFS.COM\n",
      "BROKER -                              PHONE-                     FAX - 416-244-1737                       EXPECTED - 8/14/2020\n",
      "SPECIAL P.O. INSTRUCTIONS-                                * PICK UP *                                     PICK-UP -   8/13/2020\n",
      "                                                                                                          SEND TO CAPSTONE- Y\n",
      "***********************************************************************************************************************************\n",
      "\n",
      "LINE ____\n",
      "____      SIZE___ ________\n",
      "     PACK ____             ____ __________ITEM_DESCRIPTION______________\n",
      "                  GTIN/VND_CODE_           ____ ___________              |     _______\n",
      "                                                                               ITM#/VN_IT\n",
      "                                                                                       __ _WH_TH_\n",
      "                                                                                           __ __      ___ __PRICE___\n",
      "                                                                                                     _QTY_  _____     _______ __ALLOW_\n",
      "                                                                                                                     _FREIGHT_  _____\n",
      "                                                                         |\n",
      "   1    1 500G    00066958017026 SPICE SESAME SEED BLK                   |        1257749   96/04     192     7.0000        .1108\n",
      "                                                                         |     182050\n",
      "   2   12 212ML   01899500212117 PEPPERCORN GRN IN BRINE                 |        1281180   27/07      27    45.0000        .5867\n",
      "                                                                         |     103000\n"
     ]
    }
   ],
   "source": [
    "# pdftotext 2.1.5\n",
    "# preserves layout\n",
    "# https://stackoverflow.com/questions/14372706/visual-studio-cant-build-due-to-rc-exe\n",
    "with open(PDF_1, \"rb\") as f1:\n",
    "    pdf_1 = pdftotext.PDF(f1)\n",
    "\n",
    "txt_1 = (\"\\n\\n\".join(pdf_1) # append all pages\n",
    "         .splitlines())\n",
    "\n",
    "for i in range(35):\n",
    "    print(txt_1[i])"
   ]
  },
  {
   "cell_type": "code",
   "execution_count": 12,
   "metadata": {},
   "outputs": [
    {
     "name": "stdout",
     "output_type": "stream",
     "text": [
      "                                                        ** PURCHASE ORDER **\n",
      "                                                         SYSCO PETERBOROUGH\n",
      " -----------------------------------------------------------------------------------------------------------------------------------\n",
      " SYSCO PETERBOROUGH\n",
      " SYSCO CENTRAL ONTARIO\n",
      " 65 ELMDALE ROAD\n",
      " CAVAN MONAGHAN ON K9J 0G5\n",
      " Phone: 705-748-6701                 Fax: 705-876-5758\n",
      " -----------------------------------------------------------------------------------------------------------------------------------\n",
      " PO Number:   077-2706434                                                          Buyer: DIANNE BENCZE              705-876-5775\n",
      " PO Date: 8/06/20                                                                  Terms: .0000 0 N/      Lead: 0 Days\n",
      " Delivery Date: 8/11/20\n",
      " Pick Up Date: 8/10/20\n",
      " Vendor: QUALIFIRST FOODS LTD(14513002)\n",
      "         89 CARLINGVIEW DR\n",
      "             ETOBICOKE,ON\n",
      " Phone:      416-244-1177                   FAX:    000-000-0000\n",
      " Special Instruction:\n",
      " -----------------------------------------------------------------------------------------------------------------------------------\n",
      "                                   Vendor          Item       Item                          Qty\n",
      " Line Pack Size     Brand          Item#           Number     Description                  Ordered   Price       Tax     Allowance\n",
      " -----------------------------------------------------------------------------------------------------------------------------------\n",
      "   1    1      454 GM   QUALFST           181725           0116871    SPICE CARDAMOM GRND                1      23.4700                .0000\n",
      "   2    1      3.2 KG   FABBRI            150359           1438769    CHERRY ITALIAN AMARENA             2      94.0500                .0000\n",
      "   3    1      340 GR   ROYALCM           181845           3667809    SPICE DILL SEEDS WHL               1       6.0000                .0000\n"
     ]
    }
   ],
   "source": [
    "with open(PDF_2, \"rb\") as f2:\n",
    "    pdf_2 = pdftotext.PDF(f2)\n",
    "\n",
    "txt_2 = (\"\\n\\n\".join(pdf_2)\n",
    "         .splitlines())\n",
    "\n",
    "for i in range(25):\n",
    "    print(txt_2[i])"
   ]
  },
  {
   "cell_type": "markdown",
   "metadata": {},
   "source": [
    "## camelot vs pdftotext"
   ]
  },
  {
   "cell_type": "markdown",
   "metadata": {},
   "source": [
    "TABLE HEADER (1 line):\n",
    "![table_header](gfs_5760519_page_1_header.png)"
   ]
  },
  {
   "cell_type": "code",
   "execution_count": 13,
   "metadata": {},
   "outputs": [
    {
     "data": {
      "text/plain": [
       "'____ ____ ____    ________ ____            ____ ___________                 _______ __  __ __    ___    _____     _______    _____\\nLINE PACK SIZE___ GTIN/VND_CODE_ __________ITEM_DESCRIPTION______________ | ITM#/VN_IT _WH_TH_  _QTY_ __PRICE___ _FREIGHT_ __ALLOW_'"
      ]
     },
     "execution_count": 13,
     "metadata": {},
     "output_type": "execute_result"
    }
   ],
   "source": [
    "# camelot accuracy\n",
    "tables_1[0].df.iloc[19, 0] # 1 line"
   ]
  },
  {
   "cell_type": "code",
   "execution_count": 14,
   "metadata": {},
   "outputs": [
    {
     "name": "stdout",
     "output_type": "stream",
     "text": [
      "21 : LINE ____\n",
      "22 : ____      SIZE___ ________\n",
      "23 : PACK ____             ____ __________ITEM_DESCRIPTION______________\n",
      "24 : GTIN/VND_CODE_           ____ ___________              |     _______\n",
      "25 : ITM#/VN_IT\n",
      "26 : __ _WH_TH_\n",
      "27 : __ __      ___ __PRICE___\n",
      "28 : _QTY_  _____     _______ __ALLOW_\n",
      "29 : _FREIGHT_  _____\n"
     ]
    }
   ],
   "source": [
    "# pdftotext accuracy\n",
    "for i in range(21, 30): # 9 lines\n",
    "    print(i, \":\", txt_1[i].strip())"
   ]
  },
  {
   "cell_type": "code",
   "execution_count": 15,
   "metadata": {},
   "outputs": [
    {
     "name": "stdout",
     "output_type": "stream",
     "text": [
      "2.37 s ± 8.73 ms per loop (mean ± std. dev. of 7 runs, 1 loop each)\n"
     ]
    }
   ],
   "source": [
    "%%timeit # camelot execution time\n",
    "\n",
    "parsed = camelot.read_pdf(PDF_1,\n",
    "                          flavor=\"stream\",\n",
    "                          split_text=True,\n",
    "                          suppress_stdout=True,\n",
    "                          pages=\"all\")\n",
    "\n",
    "df_list = []\n",
    "\n",
    "for df in parsed._tables:\n",
    "    df_list.append(df.df)\n",
    "\n",
    "#1 line per row    \n",
    "doc_df_camelot = pd.concat(df_list, ignore_index=True)"
   ]
  },
  {
   "cell_type": "code",
   "execution_count": 16,
   "metadata": {},
   "outputs": [
    {
     "name": "stdout",
     "output_type": "stream",
     "text": [
      "24 ms ± 104 µs per loop (mean ± std. dev. of 7 runs, 10 loops each)\n"
     ]
    }
   ],
   "source": [
    "%%timeit # pdftotext execution time\n",
    "\n",
    "with open(PDF_1, \"rb\") as f1:\n",
    "    pdf_1 = pdftotext.PDF(f1)\n",
    "    \n",
    "doc = (\"\\n\\n\".join(pdf_1)\n",
    "       .splitlines())\n",
    "\n",
    "# 1 line per row\n",
    "doc_df_pdftxt = pd.DataFrame(doc)\n",
    "\n",
    "doc_df_pdftxt[0].replace(\"\", np.nan, inplace=True)\n",
    "doc_df_pdftxt.dropna(inplace=True)\n",
    "doc_df_pdftxt[0] = doc_df_pdftxt[0].str.strip()"
   ]
  }
 ],
 "metadata": {
  "anaconda-cloud": {},
  "kernelspec": {
   "display_name": "Python 3 (Spyder)",
   "language": "python3",
   "name": "python3"
  },
  "language_info": {
   "codemirror_mode": {
    "name": "ipython",
    "version": 3
   },
   "file_extension": ".py",
   "mimetype": "text/x-python",
   "name": "python",
   "nbconvert_exporter": "python",
   "pygments_lexer": "ipython3",
   "version": "3.8.5"
  }
 },
 "nbformat": 4,
 "nbformat_minor": 4
}
